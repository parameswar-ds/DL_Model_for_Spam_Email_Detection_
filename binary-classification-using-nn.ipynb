{
 "cells": [
  {
   "cell_type": "code",
   "execution_count": 1,
   "metadata": {
    "_cell_guid": "b1076dfc-b9ad-4769-8c92-a6c4dae69d19",
    "_uuid": "8f2839f25d086af736a60e9eeb907d3b93b6e0e5"
   },
   "outputs": [
    {
     "name": "stdout",
     "output_type": "stream",
     "text": [
      "/kaggle/input/spam-or-not-spam-dataset/spam_or_not_spam.csv\n"
     ]
    }
   ],
   "source": [
    "# This Python 3 environment comes with many helpful analytics libraries installed\n",
    "# It is defined by the kaggle/python docker image: https://github.com/kaggle/docker-python\n",
    "# For example, here's several helpful packages to load in \n",
    "\n",
    "import numpy as np # linear algebra\n",
    "import pandas as pd # data processing, CSV file I/O (e.g. pd.read_csv)\n",
    "\n",
    "# Input data files are available in the \"../input/\" directory.\n",
    "# For example, running this (by clicking run or pressing Shift+Enter) will list all files under the input directory\n",
    "\n",
    "import os\n",
    "for dirname, _, filenames in os.walk('/kaggle/input'):\n",
    "    for filename in filenames:\n",
    "        print(os.path.join(dirname, filename))\n",
    "\n",
    "# Any results you write to the current directory are saved as output."
   ]
  },
  {
   "cell_type": "code",
   "execution_count": 2,
   "metadata": {
    "_cell_guid": "79c7e3d0-c299-4dcb-8224-4455121ee9b0",
    "_uuid": "d629ff2d2480ee46fbb7e2d37f6b5fab8052498a"
   },
   "outputs": [],
   "source": [
    "import pandas as pd\n",
    "import numpy as np"
   ]
  },
  {
   "cell_type": "code",
   "execution_count": 3,
   "metadata": {},
   "outputs": [],
   "source": [
    "data=pd.read_csv(r'../input/spam-or-not-spam-dataset/spam_or_not_spam.csv')\n",
    "data.head()\n",
    "from sklearn.utils import shuffle\n",
    "data = shuffle(data)"
   ]
  },
  {
   "cell_type": "code",
   "execution_count": 4,
   "metadata": {},
   "outputs": [
    {
     "data": {
      "text/plain": [
       "0    2500\n",
       "1     500\n",
       "Name: label, dtype: int64"
      ]
     },
     "execution_count": 4,
     "metadata": {},
     "output_type": "execute_result"
    }
   ],
   "source": [
    "data['label'].value_counts()\n"
   ]
  },
  {
   "cell_type": "code",
   "execution_count": 5,
   "metadata": {},
   "outputs": [
    {
     "data": {
      "text/plain": [
       "3000"
      ]
     },
     "execution_count": 5,
     "metadata": {},
     "output_type": "execute_result"
    }
   ],
   "source": [
    "text =[] \n",
    "  \n",
    "# Iterate over each row \n",
    "for index, rows in data.iterrows(): \n",
    "    # Create list for the current row \n",
    "    my_list =str(rows.email)\n",
    "      \n",
    "    # append the list to the final list \n",
    "    text.append(my_list) \n",
    "  \n",
    "# Print the list \n",
    "len(text)"
   ]
  },
  {
   "cell_type": "code",
   "execution_count": 6,
   "metadata": {},
   "outputs": [],
   "source": [
    "label=list(data['label'])"
   ]
  },
  {
   "cell_type": "code",
   "execution_count": 7,
   "metadata": {},
   "outputs": [
    {
     "data": {
      "text/plain": [
       "3000"
      ]
     },
     "execution_count": 7,
     "metadata": {},
     "output_type": "execute_result"
    }
   ],
   "source": [
    "len(label)"
   ]
  },
  {
   "cell_type": "code",
   "execution_count": 8,
   "metadata": {},
   "outputs": [
    {
     "name": "stderr",
     "output_type": "stream",
     "text": [
      "Using TensorFlow backend.\n"
     ]
    }
   ],
   "source": [
    "from keras.preprocessing.text import Tokenizer\n",
    "tokenizer = Tokenizer(num_words=1000)\n",
    "tokenizer.fit_on_texts(text)\n",
    "sequences = tokenizer.texts_to_sequences(text)"
   ]
  },
  {
   "cell_type": "code",
   "execution_count": 9,
   "metadata": {},
   "outputs": [],
   "source": [
    "x_train=sequences[:2000]\n",
    "y_train=label[:2000]\n",
    "x_test=sequences[2000:]\n",
    "y_test=label[2000:]"
   ]
  },
  {
   "cell_type": "code",
   "execution_count": 10,
   "metadata": {},
   "outputs": [],
   "source": [
    "maxlen = 20\n",
    "from keras import preprocessing\n",
    "x_train = preprocessing.sequence.pad_sequences(x_train, maxlen=maxlen)\n",
    "x_test = preprocessing.sequence.pad_sequences(x_test, maxlen=maxlen)"
   ]
  },
  {
   "cell_type": "code",
   "execution_count": 11,
   "metadata": {},
   "outputs": [
    {
     "data": {
      "text/plain": [
       "array([  2,  51,  16,   2,  52, 369,  15, 276,  60,  19, 177, 943,   7,\n",
       "         6,  65, 856,   3,  19,   6, 314], dtype=int32)"
      ]
     },
     "execution_count": 11,
     "metadata": {},
     "output_type": "execute_result"
    }
   ],
   "source": [
    "x_train[0]"
   ]
  },
  {
   "cell_type": "code",
   "execution_count": 12,
   "metadata": {},
   "outputs": [],
   "source": [
    "import numpy as np\n",
    "def vectorize_sequences(sequences, dimension=1000):\n",
    "    results = np.zeros((len(sequences), dimension))\n",
    "    for i, sequence in enumerate(sequences):\n",
    "        results[i, sequence] = 1.\n",
    "    return results\n",
    "\n",
    "x_train = vectorize_sequences(x_train)\n",
    "x_test = vectorize_sequences(x_test)"
   ]
  },
  {
   "cell_type": "code",
   "execution_count": 13,
   "metadata": {},
   "outputs": [
    {
     "data": {
      "text/plain": [
       "array([0., 0., 1., 1., 0., 0., 1., 1., 0., 0., 0., 0., 0., 0., 0., 1., 1.,\n",
       "       0., 0., 1., 0., 0., 0., 0., 0., 0., 0., 0., 0., 0., 0., 0., 0., 0.,\n",
       "       0., 0., 0., 0., 0., 0., 0., 0., 0., 0., 0., 0., 0., 0., 0., 0., 0.,\n",
       "       1., 1., 0., 0., 0., 0., 0., 0., 0., 1., 0., 0., 0., 0., 1., 0., 0.,\n",
       "       0., 0., 0., 0., 0., 0., 0., 0., 0., 0., 0., 0., 0., 0., 0., 0., 0.,\n",
       "       0., 0., 0., 0., 0., 0., 0., 0., 0., 0., 0., 0., 0., 0., 0., 0., 0.,\n",
       "       0., 0., 0., 0., 0., 0., 0., 0., 0., 0., 0., 0., 0., 0., 0., 0., 0.,\n",
       "       0., 0., 0., 0., 0., 0., 0., 0., 0., 0., 0., 0., 0., 0., 0., 0., 0.,\n",
       "       0., 0., 0., 0., 0., 0., 0., 0., 0., 0., 0., 0., 0., 0., 0., 0., 0.,\n",
       "       0., 0., 0., 0., 0., 0., 0., 0., 0., 0., 0., 0., 0., 0., 0., 0., 0.,\n",
       "       0., 0., 0., 0., 0., 0., 0., 1., 0., 0., 0., 0., 0., 0., 0., 0., 0.,\n",
       "       0., 0., 0., 0., 0., 0., 0., 0., 0., 0., 0., 0., 0., 0., 0., 0., 0.,\n",
       "       0., 0., 0., 0., 0., 0., 0., 0., 0., 0., 0., 0., 0., 0., 0., 0., 0.,\n",
       "       0., 0., 0., 0., 0., 0., 0., 0., 0., 0., 0., 0., 0., 0., 0., 0., 0.,\n",
       "       0., 0., 0., 0., 0., 0., 0., 0., 0., 0., 0., 0., 0., 0., 0., 0., 0.,\n",
       "       0., 0., 0., 0., 0., 0., 0., 0., 0., 0., 0., 0., 0., 0., 0., 0., 0.,\n",
       "       0., 0., 0., 0., 1., 0., 0., 0., 0., 0., 0., 0., 0., 0., 0., 0., 0.,\n",
       "       0., 0., 0., 0., 0., 0., 0., 0., 0., 0., 0., 0., 0., 0., 0., 0., 0.,\n",
       "       0., 0., 0., 0., 0., 0., 0., 0., 1., 0., 0., 0., 0., 0., 0., 0., 0.,\n",
       "       0., 0., 0., 0., 0., 0., 0., 0., 0., 0., 0., 0., 0., 0., 0., 0., 0.,\n",
       "       0., 0., 0., 0., 0., 0., 0., 0., 0., 0., 0., 0., 0., 0., 0., 0., 0.,\n",
       "       0., 0., 0., 0., 0., 0., 0., 0., 0., 0., 0., 0., 1., 0., 0., 0., 0.,\n",
       "       0., 0., 0., 0., 0., 0., 0., 0., 0., 0., 0., 0., 0., 0., 0., 0., 0.,\n",
       "       0., 0., 0., 0., 0., 0., 0., 0., 0., 0., 0., 0., 0., 0., 0., 0., 0.,\n",
       "       0., 0., 0., 0., 0., 0., 0., 0., 0., 0., 0., 0., 0., 0., 0., 0., 0.,\n",
       "       0., 0., 0., 0., 0., 0., 0., 0., 0., 0., 0., 0., 0., 0., 0., 0., 0.,\n",
       "       0., 0., 0., 0., 0., 0., 0., 0., 0., 0., 0., 0., 0., 0., 0., 0., 0.,\n",
       "       0., 0., 0., 0., 0., 0., 0., 0., 0., 0., 0., 0., 0., 0., 0., 0., 0.,\n",
       "       0., 0., 0., 0., 0., 0., 0., 0., 0., 0., 0., 0., 0., 0., 0., 0., 0.,\n",
       "       0., 0., 0., 0., 0., 0., 0., 0., 0., 0., 0., 0., 0., 0., 0., 0., 0.,\n",
       "       0., 0., 0., 0., 0., 0., 0., 0., 0., 0., 0., 0., 0., 0., 0., 0., 0.,\n",
       "       0., 0., 0., 0., 0., 0., 0., 0., 0., 0., 0., 0., 0., 0., 0., 0., 0.,\n",
       "       0., 0., 0., 0., 0., 0., 0., 0., 0., 0., 0., 0., 0., 0., 0., 0., 0.,\n",
       "       0., 0., 0., 0., 0., 0., 0., 0., 0., 0., 0., 0., 0., 0., 0., 0., 0.,\n",
       "       0., 0., 0., 0., 0., 0., 0., 0., 0., 0., 0., 0., 0., 0., 0., 0., 0.,\n",
       "       0., 0., 0., 0., 0., 0., 0., 0., 0., 0., 0., 0., 0., 0., 0., 0., 0.,\n",
       "       0., 0., 0., 0., 0., 0., 0., 0., 0., 0., 0., 0., 0., 0., 0., 0., 0.,\n",
       "       0., 0., 0., 0., 0., 0., 0., 0., 0., 0., 0., 0., 0., 0., 0., 0., 0.,\n",
       "       0., 0., 0., 0., 0., 0., 0., 0., 0., 0., 0., 0., 0., 0., 0., 0., 0.,\n",
       "       0., 0., 0., 0., 0., 0., 0., 0., 0., 0., 0., 0., 0., 0., 0., 0., 0.,\n",
       "       0., 0., 0., 0., 0., 0., 0., 0., 0., 0., 0., 0., 0., 0., 0., 0., 0.,\n",
       "       0., 0., 0., 0., 0., 0., 0., 0., 0., 0., 0., 0., 0., 0., 0., 0., 0.,\n",
       "       0., 0., 0., 0., 0., 0., 0., 0., 0., 0., 0., 0., 0., 0., 0., 0., 0.,\n",
       "       0., 0., 0., 0., 0., 0., 0., 0., 0., 0., 0., 0., 0., 0., 0., 0., 0.,\n",
       "       0., 0., 0., 0., 0., 0., 0., 0., 0., 0., 0., 0., 0., 0., 0., 0., 0.,\n",
       "       0., 0., 0., 0., 0., 0., 0., 0., 0., 0., 0., 0., 0., 0., 0., 0., 0.,\n",
       "       0., 0., 0., 0., 0., 0., 0., 0., 0., 0., 0., 0., 0., 0., 0., 0., 0.,\n",
       "       0., 0., 0., 0., 0., 0., 0., 0., 0., 0., 0., 0., 0., 0., 0., 0., 0.,\n",
       "       0., 0., 0., 0., 0., 0., 0., 0., 0., 0., 0., 0., 0., 0., 0., 0., 0.,\n",
       "       0., 0., 0., 0., 0., 0., 0., 0., 0., 0., 0., 0., 0., 0., 0., 0., 0.,\n",
       "       0., 0., 0., 0., 0., 0., 1., 0., 0., 0., 0., 0., 0., 0., 0., 0., 0.,\n",
       "       0., 0., 0., 0., 0., 0., 0., 0., 0., 0., 0., 0., 0., 0., 0., 0., 0.,\n",
       "       0., 0., 0., 0., 0., 0., 0., 0., 0., 0., 0., 0., 0., 0., 0., 0., 0.,\n",
       "       0., 0., 0., 0., 0., 0., 0., 0., 0., 0., 0., 0., 0., 0., 0., 0., 0.,\n",
       "       0., 0., 0., 0., 0., 0., 0., 0., 0., 0., 0., 0., 0., 0., 0., 0., 0.,\n",
       "       0., 0., 0., 0., 0., 0., 0., 0., 1., 0., 0., 0., 0., 0., 0., 0., 0.,\n",
       "       0., 0., 0., 0., 0., 0., 0., 0., 0., 0., 0., 0., 0., 0., 0., 0., 0.,\n",
       "       0., 0., 0., 0., 0., 0., 0., 0., 0., 0., 0., 0., 0., 0., 0., 0., 0.,\n",
       "       0., 0., 0., 0., 0., 0., 0., 0., 0., 0., 0., 0., 0., 0.])"
      ]
     },
     "execution_count": 13,
     "metadata": {},
     "output_type": "execute_result"
    }
   ],
   "source": [
    "x_train[0]"
   ]
  },
  {
   "cell_type": "code",
   "execution_count": 14,
   "metadata": {},
   "outputs": [
    {
     "data": {
      "text/plain": [
       "0"
      ]
     },
     "execution_count": 14,
     "metadata": {},
     "output_type": "execute_result"
    }
   ],
   "source": [
    "y_train[0]"
   ]
  },
  {
   "cell_type": "code",
   "execution_count": 15,
   "metadata": {},
   "outputs": [],
   "source": [
    "y_train = np.asarray(y_train).astype('float32')\n",
    "y_test = np.asarray(y_test).astype('float32')"
   ]
  },
  {
   "cell_type": "code",
   "execution_count": 16,
   "metadata": {},
   "outputs": [
    {
     "data": {
      "text/plain": [
       "0.0"
      ]
     },
     "execution_count": 16,
     "metadata": {},
     "output_type": "execute_result"
    }
   ],
   "source": [
    "y_train[0]"
   ]
  },
  {
   "cell_type": "code",
   "execution_count": 17,
   "metadata": {},
   "outputs": [],
   "source": [
    "from keras import models\n",
    "from keras import layers\n",
    "model = models.Sequential()\n",
    "model.add(layers.Dense(16, activation='relu', input_shape=(1000,)))\n",
    "model.add(layers.Dense(16, activation='relu'))\n",
    "model.add(layers.Dense(1, activation='sigmoid'))"
   ]
  },
  {
   "cell_type": "markdown",
   "metadata": {},
   "source": [
    "* We’re creating a layer that will only accept as input 2D tensors where the first dimen-sion is 1000 (axis 0, the batch dimension, is unspecified, and thus any value would beaccepted). This layer will return a tensor where the first dimension has been trans-formed to be 16.\n",
    "* Without an activation function like relu (also called a non-linearity), the Dense layerwould consist of two linear operations—a dot product and an addition:output = dot(W, input) + b. So the layer could only learn linear transformations (affine transformations) of theinput data: the hypothesis space of the layer would be the set of all possible lineartransformations of the input data into a 16-dimensional space. Such a hypothesisspace is too restricted and wouldn’t benefit from multiple layers of representations,because a deep stack of linear layers would still implement a linear operation: addingmore layers wouldn’t extend the hypothesis space.In order to get access to a much richer hypothesis space that would benefit fromdeep representations, you need a non-linearity, or activation function. relu is themost popular activation function in deep learning, but there are many other candi-dates, which all come with similarly strange names: prelu, elu, and so on."
   ]
  },
  {
   "cell_type": "code",
   "execution_count": 18,
   "metadata": {},
   "outputs": [],
   "source": [
    "model.compile(optimizer='rmsprop',\n",
    "loss='binary_crossentropy',\n",
    "metrics=['accuracy'])"
   ]
  },
  {
   "cell_type": "code",
   "execution_count": 19,
   "metadata": {},
   "outputs": [
    {
     "name": "stdout",
     "output_type": "stream",
     "text": [
      "Train on 1400 samples, validate on 600 samples\n",
      "Epoch 1/20\n",
      "1400/1400 [==============================] - 0s 298us/step - loss: 0.4822 - accuracy: 0.8307 - val_loss: 0.3477 - val_accuracy: 0.8333\n",
      "Epoch 2/20\n",
      "1400/1400 [==============================] - 0s 62us/step - loss: 0.2762 - accuracy: 0.8636 - val_loss: 0.2303 - val_accuracy: 0.9083\n",
      "Epoch 3/20\n",
      "1400/1400 [==============================] - 0s 63us/step - loss: 0.1809 - accuracy: 0.9293 - val_loss: 0.1645 - val_accuracy: 0.9433\n",
      "Epoch 4/20\n",
      "1400/1400 [==============================] - 0s 63us/step - loss: 0.1217 - accuracy: 0.9621 - val_loss: 0.1282 - val_accuracy: 0.9533\n",
      "Epoch 5/20\n",
      "1400/1400 [==============================] - 0s 63us/step - loss: 0.0846 - accuracy: 0.9786 - val_loss: 0.1038 - val_accuracy: 0.9567\n",
      "Epoch 6/20\n",
      "1400/1400 [==============================] - 0s 63us/step - loss: 0.0624 - accuracy: 0.9843 - val_loss: 0.0923 - val_accuracy: 0.9600\n",
      "Epoch 7/20\n",
      "1400/1400 [==============================] - 0s 64us/step - loss: 0.0510 - accuracy: 0.9864 - val_loss: 0.0903 - val_accuracy: 0.9617\n",
      "Epoch 8/20\n",
      "1400/1400 [==============================] - 0s 64us/step - loss: 0.0422 - accuracy: 0.9879 - val_loss: 0.0865 - val_accuracy: 0.9650\n",
      "Epoch 9/20\n",
      "1400/1400 [==============================] - 0s 64us/step - loss: 0.0368 - accuracy: 0.9893 - val_loss: 0.0862 - val_accuracy: 0.9667\n",
      "Epoch 10/20\n",
      "1400/1400 [==============================] - 0s 65us/step - loss: 0.0321 - accuracy: 0.9900 - val_loss: 0.0925 - val_accuracy: 0.9700\n",
      "Epoch 11/20\n",
      "1400/1400 [==============================] - 0s 64us/step - loss: 0.0282 - accuracy: 0.9921 - val_loss: 0.0927 - val_accuracy: 0.9700\n",
      "Epoch 12/20\n",
      "1400/1400 [==============================] - 0s 63us/step - loss: 0.0250 - accuracy: 0.9929 - val_loss: 0.0955 - val_accuracy: 0.9717\n",
      "Epoch 13/20\n",
      "1400/1400 [==============================] - 0s 63us/step - loss: 0.0224 - accuracy: 0.9929 - val_loss: 0.0926 - val_accuracy: 0.9717\n",
      "Epoch 14/20\n",
      "1400/1400 [==============================] - 0s 63us/step - loss: 0.0195 - accuracy: 0.9936 - val_loss: 0.0974 - val_accuracy: 0.9700\n",
      "Epoch 15/20\n",
      "1400/1400 [==============================] - 0s 64us/step - loss: 0.0181 - accuracy: 0.9950 - val_loss: 0.1123 - val_accuracy: 0.9750\n",
      "Epoch 16/20\n",
      "1400/1400 [==============================] - 0s 64us/step - loss: 0.0163 - accuracy: 0.9950 - val_loss: 0.1150 - val_accuracy: 0.9750\n",
      "Epoch 17/20\n",
      "1400/1400 [==============================] - 0s 63us/step - loss: 0.0148 - accuracy: 0.9950 - val_loss: 0.1142 - val_accuracy: 0.9767\n",
      "Epoch 18/20\n",
      "1400/1400 [==============================] - 0s 63us/step - loss: 0.0130 - accuracy: 0.9950 - val_loss: 0.1361 - val_accuracy: 0.9717\n",
      "Epoch 19/20\n",
      "1400/1400 [==============================] - 0s 62us/step - loss: 0.0127 - accuracy: 0.9964 - val_loss: 0.1227 - val_accuracy: 0.9767\n",
      "Epoch 20/20\n",
      "1400/1400 [==============================] - 0s 63us/step - loss: 0.0115 - accuracy: 0.9957 - val_loss: 0.1353 - val_accuracy: 0.9750\n"
     ]
    }
   ],
   "source": [
    "history = model.fit(x_train,\n",
    "y_train,\n",
    "epochs=20,\n",
    "batch_size=32,\n",
    "validation_split=0.3)"
   ]
  },
  {
   "cell_type": "code",
   "execution_count": 20,
   "metadata": {},
   "outputs": [
    {
     "data": {
      "text/plain": [
       "dict_keys(['val_loss', 'val_accuracy', 'loss', 'accuracy'])"
      ]
     },
     "execution_count": 20,
     "metadata": {},
     "output_type": "execute_result"
    }
   ],
   "source": [
    "history_dict = history.history\n",
    "history_dict.keys()"
   ]
  },
  {
   "cell_type": "code",
   "execution_count": 21,
   "metadata": {},
   "outputs": [
    {
     "data": {
      "image/png": "[encoded data removed]",
      "text/plain": [
       "<Figure size 432x288 with 1 Axes>"
      ]
     },
     "metadata": {
      "needs_background": "light"
     },
     "output_type": "display_data"
    }
   ],
   "source": [
    "import matplotlib.pyplot as plt\n",
    "history_dict = history.history\n",
    "loss_values = history_dict['loss']\n",
    "val_loss_values = history_dict['val_loss']\n",
    "epochs = range(1, len(loss_values) + 1)\n",
    "plt.plot(epochs, loss_values, 'bo', label='Training loss')\n",
    "plt.plot(epochs, val_loss_values, 'b', label='Validation loss')\n",
    "plt.title('Training and validation loss')\n",
    "plt.xlabel('Epochs')\n",
    "plt.ylabel('Loss')\n",
    "plt.legend()\n",
    "plt.show()"
   ]
  },
  {
   "cell_type": "code",
   "execution_count": 22,
   "metadata": {},
   "outputs": [
    {
     "data": {
      "image/png": "[encoded data removed]",
      "text/plain": [
       "<Figure size 432x288 with 1 Axes>"
      ]
     },
     "metadata": {
      "needs_background": "light"
     },
     "output_type": "display_data"
    }
   ],
   "source": [
    "acc_values = history_dict['accuracy']\n",
    "val_acc_values = history_dict['val_accuracy']\n",
    "plt.plot(epochs, acc_values, 'bo', label='Training acc')\n",
    "plt.plot(epochs, val_acc_values, 'b', label='Validation acc')\n",
    "plt.title('Training and validation accuracy')\n",
    "plt.xlabel('Epochs')\n",
    "plt.ylabel('accuracy')\n",
    "plt.legend()\n",
    "plt.show()"
   ]
  },
  {
   "cell_type": "code",
   "execution_count": 23,
   "metadata": {},
   "outputs": [
    {
     "name": "stdout",
     "output_type": "stream",
     "text": [
      "1000/1000 [==============================] - 0s 26us/step\n"
     ]
    }
   ],
   "source": [
    "results = model.evaluate(x_test, y_test)"
   ]
  },
  {
   "cell_type": "code",
   "execution_count": 24,
   "metadata": {},
   "outputs": [
    {
     "data": {
      "text/plain": [
       "[0.1463444643151015, 0.9639999866485596]"
      ]
     },
     "execution_count": 24,
     "metadata": {},
     "output_type": "execute_result"
    }
   ],
   "source": [
    "results"
   ]
  },
  {
   "cell_type": "code",
   "execution_count": 25,
   "metadata": {},
   "outputs": [],
   "source": [
    "from keras import models\n",
    "from keras import layers\n",
    "from keras import regularizers\n",
    "model = models.Sequential()\n",
    "model.add(layers.Dense(16, activation='relu', input_shape=(1000,),kernel_regularizer=regularizers.l2(0.001)))\n",
    "model.add(layers.Dense(16, activation='relu',kernel_regularizer=regularizers.l2(0.001)))\n",
    "model.add(layers.Dense(1, activation='sigmoid'))"
   ]
  },
  {
   "cell_type": "code",
   "execution_count": 26,
   "metadata": {},
   "outputs": [],
   "source": [
    "model.compile(optimizer='rmsprop',\n",
    "loss='binary_crossentropy',\n",
    "metrics=['accuracy'])"
   ]
  },
  {
   "cell_type": "code",
   "execution_count": 27,
   "metadata": {},
   "outputs": [
    {
     "name": "stdout",
     "output_type": "stream",
     "text": [
      "Train on 1400 samples, validate on 600 samples\n",
      "Epoch 1/20\n",
      "1400/1400 [==============================] - 0s 180us/step - loss: 0.6045 - accuracy: 0.8071 - val_loss: 0.4694 - val_accuracy: 0.8583\n",
      "Epoch 2/20\n",
      "1400/1400 [==============================] - 0s 66us/step - loss: 0.3605 - accuracy: 0.8914 - val_loss: 0.2676 - val_accuracy: 0.9333\n",
      "Epoch 3/20\n",
      "1400/1400 [==============================] - 0s 66us/step - loss: 0.2167 - accuracy: 0.9443 - val_loss: 0.1832 - val_accuracy: 0.9483\n",
      "Epoch 4/20\n",
      "1400/1400 [==============================] - 0s 67us/step - loss: 0.1525 - accuracy: 0.9621 - val_loss: 0.1452 - val_accuracy: 0.9567\n",
      "Epoch 5/20\n",
      "1400/1400 [==============================] - 0s 67us/step - loss: 0.1217 - accuracy: 0.9757 - val_loss: 0.1337 - val_accuracy: 0.9567\n",
      "Epoch 6/20\n",
      "1400/1400 [==============================] - 0s 66us/step - loss: 0.1058 - accuracy: 0.9793 - val_loss: 0.1260 - val_accuracy: 0.9567\n",
      "Epoch 7/20\n",
      "1400/1400 [==============================] - 0s 66us/step - loss: 0.0951 - accuracy: 0.9786 - val_loss: 0.1228 - val_accuracy: 0.9583\n",
      "Epoch 8/20\n",
      "1400/1400 [==============================] - 0s 80us/step - loss: 0.0868 - accuracy: 0.9836 - val_loss: 0.1188 - val_accuracy: 0.9567\n",
      "Epoch 9/20\n",
      "1400/1400 [==============================] - 0s 86us/step - loss: 0.0832 - accuracy: 0.9836 - val_loss: 0.1170 - val_accuracy: 0.9567\n",
      "Epoch 10/20\n",
      "1400/1400 [==============================] - 0s 70us/step - loss: 0.0779 - accuracy: 0.9843 - val_loss: 0.1157 - val_accuracy: 0.9600\n",
      "Epoch 11/20\n",
      "1400/1400 [==============================] - 0s 70us/step - loss: 0.0747 - accuracy: 0.9843 - val_loss: 0.1132 - val_accuracy: 0.9633\n",
      "Epoch 12/20\n",
      "1400/1400 [==============================] - 0s 71us/step - loss: 0.0717 - accuracy: 0.9864 - val_loss: 0.1139 - val_accuracy: 0.9600\n",
      "Epoch 13/20\n",
      "1400/1400 [==============================] - 0s 73us/step - loss: 0.0684 - accuracy: 0.9886 - val_loss: 0.1148 - val_accuracy: 0.9583\n",
      "Epoch 14/20\n",
      "1400/1400 [==============================] - 0s 69us/step - loss: 0.0658 - accuracy: 0.9886 - val_loss: 0.1111 - val_accuracy: 0.9617\n",
      "Epoch 15/20\n",
      "1400/1400 [==============================] - 0s 66us/step - loss: 0.0639 - accuracy: 0.9886 - val_loss: 0.1118 - val_accuracy: 0.9617\n",
      "Epoch 16/20\n",
      "1400/1400 [==============================] - 0s 67us/step - loss: 0.0598 - accuracy: 0.9893 - val_loss: 0.1098 - val_accuracy: 0.9667\n",
      "Epoch 17/20\n",
      "1400/1400 [==============================] - 0s 66us/step - loss: 0.0573 - accuracy: 0.9907 - val_loss: 0.1107 - val_accuracy: 0.9650\n",
      "Epoch 18/20\n",
      "1400/1400 [==============================] - 0s 66us/step - loss: 0.0576 - accuracy: 0.9886 - val_loss: 0.1082 - val_accuracy: 0.9683\n",
      "Epoch 19/20\n",
      "1400/1400 [==============================] - 0s 67us/step - loss: 0.0564 - accuracy: 0.9914 - val_loss: 0.1140 - val_accuracy: 0.9650\n",
      "Epoch 20/20\n",
      "1400/1400 [==============================] - 0s 66us/step - loss: 0.0535 - accuracy: 0.9921 - val_loss: 0.1141 - val_accuracy: 0.9650\n"
     ]
    }
   ],
   "source": [
    "history_reg1 = model.fit(x_train,\n",
    "y_train,\n",
    "epochs=20,\n",
    "batch_size=32,\n",
    "validation_split=0.3)"
   ]
  },
  {
   "cell_type": "code",
   "execution_count": 28,
   "metadata": {},
   "outputs": [
    {
     "data": {
      "image/png": "[encoded data removed]",
      "text/plain": [
       "<Figure size 432x288 with 1 Axes>"
      ]
     },
     "metadata": {
      "needs_background": "light"
     },
     "output_type": "display_data"
    }
   ],
   "source": [
    "import matplotlib.pyplot as plt\n",
    "history_dict = history_reg1.history\n",
    "loss_values = history_dict['loss']\n",
    "val_loss_values = history_dict['val_loss']\n",
    "epochs = range(1, len(loss_values) + 1)\n",
    "plt.plot(epochs, loss_values, 'bo', label='Training loss')\n",
    "plt.plot(epochs, val_loss_values, 'b', label='Validation loss')\n",
    "plt.title('Training and validation loss')\n",
    "plt.xlabel('Epochs')\n",
    "plt.ylabel('Loss')\n",
    "plt.legend()\n",
    "plt.show()"
   ]
  },
  {
   "cell_type": "code",
   "execution_count": 29,
   "metadata": {},
   "outputs": [
    {
     "data": {
      "image/png": "[encoded data removed]",
      "text/plain": [
       "<Figure size 432x288 with 1 Axes>"
      ]
     },
     "metadata": {
      "needs_background": "light"
     },
     "output_type": "display_data"
    }
   ],
   "source": [
    "acc_values = history_dict['accuracy']\n",
    "val_acc_values = history_dict['val_accuracy']\n",
    "plt.plot(epochs, acc_values, 'bo', label='Training acc')\n",
    "plt.plot(epochs, val_acc_values, 'b', label='Validation acc')\n",
    "plt.title('Training and validation accuracy')\n",
    "plt.xlabel('Epochs')\n",
    "plt.ylabel('accuracy')\n",
    "plt.legend()\n",
    "plt.show()"
   ]
  },
  {
   "cell_type": "code",
   "execution_count": 30,
   "metadata": {},
   "outputs": [
    {
     "name": "stdout",
     "output_type": "stream",
     "text": [
      "1000/1000 [==============================] - 0s 26us/step\n"
     ]
    }
   ],
   "source": [
    "results1 = model.evaluate(x_test, y_test)"
   ]
  },
  {
   "cell_type": "code",
   "execution_count": 31,
   "metadata": {},
   "outputs": [
    {
     "data": {
      "text/plain": [
       "[0.11185774141550064, 0.9649999737739563]"
      ]
     },
     "execution_count": 31,
     "metadata": {},
     "output_type": "execute_result"
    }
   ],
   "source": [
    "results1"
   ]
  },
  {
   "cell_type": "code",
   "execution_count": 32,
   "metadata": {},
   "outputs": [],
   "source": [
    "from keras import models\n",
    "from keras import layers\n",
    "\n",
    "model = models.Sequential()\n",
    "model.add(layers.Dense(16, activation='relu', input_shape=(1000,)))\n",
    "model.add(layers.Dropout(0.5))\n",
    "model.add(layers.Dense(16, activation='relu'))\n",
    "model.add(layers.Dropout(0.5))\n",
    "model.add(layers.Dense(1, activation='sigmoid'))"
   ]
  },
  {
   "cell_type": "code",
   "execution_count": 33,
   "metadata": {},
   "outputs": [],
   "source": [
    "model.compile(optimizer='rmsprop',\n",
    "loss='binary_crossentropy',\n",
    "metrics=['accuracy'])"
   ]
  },
  {
   "cell_type": "code",
   "execution_count": 34,
   "metadata": {},
   "outputs": [
    {
     "name": "stdout",
     "output_type": "stream",
     "text": [
      "Train on 1400 samples, validate on 600 samples\n",
      "Epoch 1/20\n",
      "1400/1400 [==============================] - 0s 242us/step - loss: 0.5913 - accuracy: 0.7821 - val_loss: 0.5135 - val_accuracy: 0.8283\n",
      "Epoch 2/20\n",
      "1400/1400 [==============================] - 0s 71us/step - loss: 0.4476 - accuracy: 0.8336 - val_loss: 0.3818 - val_accuracy: 0.8283\n",
      "Epoch 3/20\n",
      "1400/1400 [==============================] - 0s 72us/step - loss: 0.3869 - accuracy: 0.8350 - val_loss: 0.3111 - val_accuracy: 0.8283\n",
      "Epoch 4/20\n",
      "1400/1400 [==============================] - 0s 71us/step - loss: 0.3361 - accuracy: 0.8343 - val_loss: 0.2673 - val_accuracy: 0.8283\n",
      "Epoch 5/20\n",
      "1400/1400 [==============================] - 0s 71us/step - loss: 0.3095 - accuracy: 0.8436 - val_loss: 0.2370 - val_accuracy: 0.8283\n",
      "Epoch 6/20\n",
      "1400/1400 [==============================] - 0s 72us/step - loss: 0.2629 - accuracy: 0.8571 - val_loss: 0.2133 - val_accuracy: 0.8917\n",
      "Epoch 7/20\n",
      "1400/1400 [==============================] - 0s 72us/step - loss: 0.2377 - accuracy: 0.8793 - val_loss: 0.1902 - val_accuracy: 0.9250\n",
      "Epoch 8/20\n",
      "1400/1400 [==============================] - 0s 74us/step - loss: 0.2146 - accuracy: 0.8950 - val_loss: 0.1690 - val_accuracy: 0.9450\n",
      "Epoch 9/20\n",
      "1400/1400 [==============================] - 0s 73us/step - loss: 0.1800 - accuracy: 0.9257 - val_loss: 0.1496 - val_accuracy: 0.9567\n",
      "Epoch 10/20\n",
      "1400/1400 [==============================] - 0s 75us/step - loss: 0.1569 - accuracy: 0.9479 - val_loss: 0.1393 - val_accuracy: 0.9550\n",
      "Epoch 11/20\n",
      "1400/1400 [==============================] - 0s 73us/step - loss: 0.1328 - accuracy: 0.9536 - val_loss: 0.1245 - val_accuracy: 0.9600\n",
      "Epoch 12/20\n",
      "1400/1400 [==============================] - 0s 71us/step - loss: 0.1350 - accuracy: 0.9600 - val_loss: 0.1149 - val_accuracy: 0.9583\n",
      "Epoch 13/20\n",
      "1400/1400 [==============================] - 0s 69us/step - loss: 0.1225 - accuracy: 0.9664 - val_loss: 0.1101 - val_accuracy: 0.9617\n",
      "Epoch 14/20\n",
      "1400/1400 [==============================] - 0s 73us/step - loss: 0.1096 - accuracy: 0.9679 - val_loss: 0.1027 - val_accuracy: 0.9600\n",
      "Epoch 15/20\n",
      "1400/1400 [==============================] - 0s 70us/step - loss: 0.1045 - accuracy: 0.9707 - val_loss: 0.1033 - val_accuracy: 0.9567\n",
      "Epoch 16/20\n",
      "1400/1400 [==============================] - 0s 72us/step - loss: 0.0894 - accuracy: 0.9743 - val_loss: 0.1052 - val_accuracy: 0.9617\n",
      "Epoch 17/20\n",
      "1400/1400 [==============================] - 0s 71us/step - loss: 0.0922 - accuracy: 0.9714 - val_loss: 0.1011 - val_accuracy: 0.9617\n",
      "Epoch 18/20\n",
      "1400/1400 [==============================] - 0s 72us/step - loss: 0.0813 - accuracy: 0.9786 - val_loss: 0.1053 - val_accuracy: 0.9617\n",
      "Epoch 19/20\n",
      "1400/1400 [==============================] - 0s 71us/step - loss: 0.0884 - accuracy: 0.9736 - val_loss: 0.1054 - val_accuracy: 0.9617\n",
      "Epoch 20/20\n",
      "1400/1400 [==============================] - 0s 70us/step - loss: 0.0903 - accuracy: 0.9757 - val_loss: 0.1070 - val_accuracy: 0.9617\n"
     ]
    }
   ],
   "source": [
    "history_d = model.fit(x_train,\n",
    "y_train,\n",
    "epochs=20,\n",
    "batch_size=32,\n",
    "validation_split=0.3)"
   ]
  },
  {
   "cell_type": "code",
   "execution_count": 35,
   "metadata": {},
   "outputs": [
    {
     "data": {
      "image/png": "[encoded data removed]",
      "text/plain": [
       "<Figure size 432x288 with 1 Axes>"
      ]
     },
     "metadata": {
      "needs_background": "light"
     },
     "output_type": "display_data"
    }
   ],
   "source": [
    "import matplotlib.pyplot as plt\n",
    "history_dict = history_d.history\n",
    "loss_values = history_dict['loss']\n",
    "val_loss_values = history_dict['val_loss']\n",
    "epochs = range(1, len(loss_values) + 1)\n",
    "plt.plot(epochs, loss_values, 'bo', label='Training loss')\n",
    "plt.plot(epochs, val_loss_values, 'b', label='Validation loss')\n",
    "plt.title('Training and validation loss')\n",
    "plt.xlabel('Epochs')\n",
    "plt.ylabel('Loss')\n",
    "plt.legend()\n",
    "plt.show()"
   ]
  },
  {
   "cell_type": "code",
   "execution_count": 36,
   "metadata": {},
   "outputs": [
    {
     "data": {
      "image/png": "[encoded data removed]",
      "text/plain": [
       "<Figure size 432x288 with 1 Axes>"
      ]
     },
     "metadata": {
      "needs_background": "light"
     },
     "output_type": "display_data"
    }
   ],
   "source": [
    "acc_values = history_dict['accuracy']\n",
    "val_acc_values = history_dict['val_accuracy']\n",
    "plt.plot(epochs, acc_values, 'bo', label='Training acc')\n",
    "plt.plot(epochs, val_acc_values, 'b', label='Validation acc')\n",
    "plt.title('Training and validation accuracy')\n",
    "plt.xlabel('Epochs')\n",
    "plt.ylabel('accuracy')\n",
    "plt.legend()\n",
    "plt.show()"
   ]
  },
  {
   "cell_type": "code",
   "execution_count": 37,
   "metadata": {},
   "outputs": [
    {
     "name": "stdout",
     "output_type": "stream",
     "text": [
      "1000/1000 [==============================] - 0s 28us/step\n"
     ]
    }
   ],
   "source": [
    "results2 = model.evaluate(x_test, y_test)"
   ]
  },
  {
   "cell_type": "code",
   "execution_count": 38,
   "metadata": {},
   "outputs": [
    {
     "data": {
      "text/plain": [
       "[0.1463444643151015, 0.9639999866485596]"
      ]
     },
     "execution_count": 38,
     "metadata": {},
     "output_type": "execute_result"
    }
   ],
   "source": [
    "results"
   ]
  },
  {
   "cell_type": "code",
   "execution_count": 39,
   "metadata": {},
   "outputs": [
    {
     "data": {
      "text/plain": [
       "[0.11185774141550064, 0.9649999737739563]"
      ]
     },
     "execution_count": 39,
     "metadata": {},
     "output_type": "execute_result"
    }
   ],
   "source": [
    "results1"
   ]
  },
  {
   "cell_type": "code",
   "execution_count": 40,
   "metadata": {},
   "outputs": [
    {
     "data": {
      "text/plain": [
       "[0.11950493179261684, 0.9639999866485596]"
      ]
     },
     "execution_count": 40,
     "metadata": {},
     "output_type": "execute_result"
    }
   ],
   "source": [
    "results2"
   ]
  }
 ],
 "metadata": {
  "kernelspec": {
   "display_name": "Python 3",
   "language": "python",
   "name": "python3"
  },
  "language_info": {
   "codemirror_mode": {
    "name": "ipython",
    "version": 3
   },
   "file_extension": ".py",
   "mimetype": "text/x-python",
   "name": "python",
   "nbconvert_exporter": "python",
   "pygments_lexer": "ipython3",
   "version": "3.6.6"
  }
 },
 "nbformat": 4,
 "nbformat_minor": 4
}
